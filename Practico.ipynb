{
 "cells": [
  {
   "cell_type": "code",
   "execution_count": null,
   "id": "bf47de85",
   "metadata": {},
   "outputs": [],
   "source": [
    "# Si es la primera vez que utilizas SQLAlchemy y no se encuentra instalado, descomentar e instalar.\n",
    "# pip install sqlalchemy"
   ]
  },
  {
   "cell_type": "code",
   "execution_count": 38,
   "id": "ea7f5433",
   "metadata": {},
   "outputs": [],
   "source": [
    "import pandas as pd\n",
    "import sqlalchemy as db\n",
    "from urllib.error import HTTPError\n"
   ]
  },
  {
   "cell_type": "code",
   "execution_count": 39,
   "id": "5f909c75",
   "metadata": {},
   "outputs": [],
   "source": [
    "# Convierto el archivo csv remoto en dataframe | de no existir la ruta abre el archivo que tenemos de respaldo\n",
    "\n",
    "try:\n",
    "    df_medallas = pd.read_csv(\"http://winterolympicsmedals.com/medasls.csv\")\n",
    "except HTTPError:\n",
    "    df_medallas = pd.read_csv(\"medals_local.csv\")\n",
    "    \n",
    "\n"
   ]
  },
  {
   "cell_type": "code",
   "execution_count": 40,
   "id": "0e828cce",
   "metadata": {},
   "outputs": [
    {
     "data": {
      "text/html": [
       "<div>\n",
       "<style scoped>\n",
       "    .dataframe tbody tr th:only-of-type {\n",
       "        vertical-align: middle;\n",
       "    }\n",
       "\n",
       "    .dataframe tbody tr th {\n",
       "        vertical-align: top;\n",
       "    }\n",
       "\n",
       "    .dataframe thead th {\n",
       "        text-align: right;\n",
       "    }\n",
       "</style>\n",
       "<table border=\"1\" class=\"dataframe\">\n",
       "  <thead>\n",
       "    <tr style=\"text-align: right;\">\n",
       "      <th></th>\n",
       "      <th>Year</th>\n",
       "      <th>City</th>\n",
       "      <th>Sport</th>\n",
       "      <th>Discipline</th>\n",
       "      <th>NOC</th>\n",
       "      <th>Event</th>\n",
       "      <th>Event gender</th>\n",
       "      <th>Medal</th>\n",
       "    </tr>\n",
       "  </thead>\n",
       "  <tbody>\n",
       "    <tr>\n",
       "      <th>0</th>\n",
       "      <td>1924</td>\n",
       "      <td>Chamonix</td>\n",
       "      <td>Skating</td>\n",
       "      <td>Figure skating</td>\n",
       "      <td>AUT</td>\n",
       "      <td>individual</td>\n",
       "      <td>M</td>\n",
       "      <td>Silver</td>\n",
       "    </tr>\n",
       "    <tr>\n",
       "      <th>1</th>\n",
       "      <td>1924</td>\n",
       "      <td>Chamonix</td>\n",
       "      <td>Skating</td>\n",
       "      <td>Figure skating</td>\n",
       "      <td>AUT</td>\n",
       "      <td>individual</td>\n",
       "      <td>W</td>\n",
       "      <td>Gold</td>\n",
       "    </tr>\n",
       "    <tr>\n",
       "      <th>2</th>\n",
       "      <td>1924</td>\n",
       "      <td>Chamonix</td>\n",
       "      <td>Skating</td>\n",
       "      <td>Figure skating</td>\n",
       "      <td>AUT</td>\n",
       "      <td>pairs</td>\n",
       "      <td>X</td>\n",
       "      <td>Gold</td>\n",
       "    </tr>\n",
       "    <tr>\n",
       "      <th>3</th>\n",
       "      <td>1924</td>\n",
       "      <td>Chamonix</td>\n",
       "      <td>Bobsleigh</td>\n",
       "      <td>Bobsleigh</td>\n",
       "      <td>BEL</td>\n",
       "      <td>four-man</td>\n",
       "      <td>M</td>\n",
       "      <td>Bronze</td>\n",
       "    </tr>\n",
       "    <tr>\n",
       "      <th>4</th>\n",
       "      <td>1924</td>\n",
       "      <td>Chamonix</td>\n",
       "      <td>Ice Hockey</td>\n",
       "      <td>Ice Hockey</td>\n",
       "      <td>CAN</td>\n",
       "      <td>ice hockey</td>\n",
       "      <td>M</td>\n",
       "      <td>Gold</td>\n",
       "    </tr>\n",
       "  </tbody>\n",
       "</table>\n",
       "</div>"
      ],
      "text/plain": [
       "   Year      City       Sport      Discipline  NOC       Event Event gender  \\\n",
       "0  1924  Chamonix     Skating  Figure skating  AUT  individual            M   \n",
       "1  1924  Chamonix     Skating  Figure skating  AUT  individual            W   \n",
       "2  1924  Chamonix     Skating  Figure skating  AUT       pairs            X   \n",
       "3  1924  Chamonix   Bobsleigh       Bobsleigh  BEL    four-man            M   \n",
       "4  1924  Chamonix  Ice Hockey      Ice Hockey  CAN  ice hockey            M   \n",
       "\n",
       "    Medal  \n",
       "0  Silver  \n",
       "1    Gold  \n",
       "2    Gold  \n",
       "3  Bronze  \n",
       "4    Gold  "
      ]
     },
     "execution_count": 40,
     "metadata": {},
     "output_type": "execute_result"
    }
   ],
   "source": [
    "# Verifico que se creo correctamente el dataframe\n",
    "df_medallas.head()"
   ]
  },
  {
   "cell_type": "code",
   "execution_count": 41,
   "id": "b8b44d78",
   "metadata": {},
   "outputs": [
    {
     "name": "stdout",
     "output_type": "stream",
     "text": [
      "<class 'pandas.core.frame.DataFrame'>\n",
      "RangeIndex: 2311 entries, 0 to 2310\n",
      "Data columns (total 8 columns):\n",
      " #   Column        Non-Null Count  Dtype \n",
      "---  ------        --------------  ----- \n",
      " 0   Year          2311 non-null   int64 \n",
      " 1   City          2311 non-null   object\n",
      " 2   Sport         2311 non-null   object\n",
      " 3   Discipline    2311 non-null   object\n",
      " 4   NOC           2311 non-null   object\n",
      " 5   Event         2311 non-null   object\n",
      " 6   Event gender  2311 non-null   object\n",
      " 7   Medal         2311 non-null   object\n",
      "dtypes: int64(1), object(7)\n",
      "memory usage: 144.6+ KB\n"
     ]
    }
   ],
   "source": [
    "# Verificamos el formato de los datos para luego realizar el filtrado\n",
    "df_medallas.info()"
   ]
  },
  {
   "cell_type": "code",
   "execution_count": 42,
   "id": "d169edb0",
   "metadata": {},
   "outputs": [
    {
     "data": {
      "text/plain": [
       "array(['AUT', 'BEL', 'CAN', 'FIN', 'FRA', 'GBR', 'NOR', 'SUI', 'SWE',\n",
       "       'USA', 'GER', 'TCH', 'HUN', 'ITA', 'FRG', 'NED', 'EUA', 'JPN',\n",
       "       'POL', 'URS', 'PRK', 'GDR', 'ROU', 'ESP', 'LIE', 'BUL', 'YUG',\n",
       "       'CHN', 'EUN', 'KOR', 'LUX', 'NZL', 'AUS', 'BLR', 'KAZ', 'RUS',\n",
       "       'SLO', 'UKR', 'UZB', 'CZE', 'DEN', 'CRO', 'EST', 'LAT', 'SVK'],\n",
       "      dtype=object)"
      ]
     },
     "execution_count": 42,
     "metadata": {},
     "output_type": "execute_result"
    }
   ],
   "source": [
    "# Verificamos cuales son los posibles codigos pais para encontrar el que nos interesa\n",
    "df_medallas['NOC'].unique()"
   ]
  },
  {
   "cell_type": "code",
   "execution_count": 43,
   "id": "9e75b2d3",
   "metadata": {},
   "outputs": [
    {
     "data": {
      "text/html": [
       "<div>\n",
       "<style scoped>\n",
       "    .dataframe tbody tr th:only-of-type {\n",
       "        vertical-align: middle;\n",
       "    }\n",
       "\n",
       "    .dataframe tbody tr th {\n",
       "        vertical-align: top;\n",
       "    }\n",
       "\n",
       "    .dataframe thead th {\n",
       "        text-align: right;\n",
       "    }\n",
       "</style>\n",
       "<table border=\"1\" class=\"dataframe\">\n",
       "  <thead>\n",
       "    <tr style=\"text-align: right;\">\n",
       "      <th></th>\n",
       "      <th>Year</th>\n",
       "      <th>City</th>\n",
       "      <th>Sport</th>\n",
       "      <th>Discipline</th>\n",
       "      <th>NOC</th>\n",
       "      <th>Event</th>\n",
       "      <th>Event gender</th>\n",
       "      <th>Medal</th>\n",
       "    </tr>\n",
       "  </thead>\n",
       "  <tbody>\n",
       "    <tr>\n",
       "      <th>307</th>\n",
       "      <td>1952</td>\n",
       "      <td>Oslo</td>\n",
       "      <td>Bobsleigh</td>\n",
       "      <td>Bobsleigh</td>\n",
       "      <td>USA</td>\n",
       "      <td>four-man</td>\n",
       "      <td>M</td>\n",
       "      <td>Silver</td>\n",
       "    </tr>\n",
       "    <tr>\n",
       "      <th>308</th>\n",
       "      <td>1952</td>\n",
       "      <td>Oslo</td>\n",
       "      <td>Bobsleigh</td>\n",
       "      <td>Bobsleigh</td>\n",
       "      <td>USA</td>\n",
       "      <td>two-man</td>\n",
       "      <td>M</td>\n",
       "      <td>Silver</td>\n",
       "    </tr>\n",
       "    <tr>\n",
       "      <th>309</th>\n",
       "      <td>1952</td>\n",
       "      <td>Oslo</td>\n",
       "      <td>Ice Hockey</td>\n",
       "      <td>Ice Hockey</td>\n",
       "      <td>USA</td>\n",
       "      <td>ice hockey</td>\n",
       "      <td>M</td>\n",
       "      <td>Silver</td>\n",
       "    </tr>\n",
       "    <tr>\n",
       "      <th>310</th>\n",
       "      <td>1952</td>\n",
       "      <td>Oslo</td>\n",
       "      <td>Skating</td>\n",
       "      <td>Figure skating</td>\n",
       "      <td>USA</td>\n",
       "      <td>individual</td>\n",
       "      <td>M</td>\n",
       "      <td>Bronze</td>\n",
       "    </tr>\n",
       "    <tr>\n",
       "      <th>311</th>\n",
       "      <td>1952</td>\n",
       "      <td>Oslo</td>\n",
       "      <td>Skating</td>\n",
       "      <td>Figure skating</td>\n",
       "      <td>USA</td>\n",
       "      <td>individual</td>\n",
       "      <td>M</td>\n",
       "      <td>Gold</td>\n",
       "    </tr>\n",
       "    <tr>\n",
       "      <th>...</th>\n",
       "      <td>...</td>\n",
       "      <td>...</td>\n",
       "      <td>...</td>\n",
       "      <td>...</td>\n",
       "      <td>...</td>\n",
       "      <td>...</td>\n",
       "      <td>...</td>\n",
       "      <td>...</td>\n",
       "    </tr>\n",
       "    <tr>\n",
       "      <th>2306</th>\n",
       "      <td>2006</td>\n",
       "      <td>Turin</td>\n",
       "      <td>Skiing</td>\n",
       "      <td>Snowboard</td>\n",
       "      <td>USA</td>\n",
       "      <td>Half-pipe</td>\n",
       "      <td>M</td>\n",
       "      <td>Silver</td>\n",
       "    </tr>\n",
       "    <tr>\n",
       "      <th>2307</th>\n",
       "      <td>2006</td>\n",
       "      <td>Turin</td>\n",
       "      <td>Skiing</td>\n",
       "      <td>Snowboard</td>\n",
       "      <td>USA</td>\n",
       "      <td>Half-pipe</td>\n",
       "      <td>W</td>\n",
       "      <td>Gold</td>\n",
       "    </tr>\n",
       "    <tr>\n",
       "      <th>2308</th>\n",
       "      <td>2006</td>\n",
       "      <td>Turin</td>\n",
       "      <td>Skiing</td>\n",
       "      <td>Snowboard</td>\n",
       "      <td>USA</td>\n",
       "      <td>Half-pipe</td>\n",
       "      <td>W</td>\n",
       "      <td>Silver</td>\n",
       "    </tr>\n",
       "    <tr>\n",
       "      <th>2309</th>\n",
       "      <td>2006</td>\n",
       "      <td>Turin</td>\n",
       "      <td>Skiing</td>\n",
       "      <td>Snowboard</td>\n",
       "      <td>USA</td>\n",
       "      <td>Snowboard Cross</td>\n",
       "      <td>M</td>\n",
       "      <td>Gold</td>\n",
       "    </tr>\n",
       "    <tr>\n",
       "      <th>2310</th>\n",
       "      <td>2006</td>\n",
       "      <td>Turin</td>\n",
       "      <td>Skiing</td>\n",
       "      <td>Snowboard</td>\n",
       "      <td>USA</td>\n",
       "      <td>Snowboard Cross</td>\n",
       "      <td>W</td>\n",
       "      <td>Silver</td>\n",
       "    </tr>\n",
       "  </tbody>\n",
       "</table>\n",
       "<p>181 rows × 8 columns</p>\n",
       "</div>"
      ],
      "text/plain": [
       "      Year   City       Sport      Discipline  NOC            Event  \\\n",
       "307   1952   Oslo   Bobsleigh       Bobsleigh  USA         four-man   \n",
       "308   1952   Oslo   Bobsleigh       Bobsleigh  USA          two-man   \n",
       "309   1952   Oslo  Ice Hockey      Ice Hockey  USA       ice hockey   \n",
       "310   1952   Oslo     Skating  Figure skating  USA       individual   \n",
       "311   1952   Oslo     Skating  Figure skating  USA       individual   \n",
       "...    ...    ...         ...             ...  ...              ...   \n",
       "2306  2006  Turin      Skiing       Snowboard  USA        Half-pipe   \n",
       "2307  2006  Turin      Skiing       Snowboard  USA        Half-pipe   \n",
       "2308  2006  Turin      Skiing       Snowboard  USA        Half-pipe   \n",
       "2309  2006  Turin      Skiing       Snowboard  USA  Snowboard Cross   \n",
       "2310  2006  Turin      Skiing       Snowboard  USA  Snowboard Cross   \n",
       "\n",
       "     Event gender   Medal  \n",
       "307             M  Silver  \n",
       "308             M  Silver  \n",
       "309             M  Silver  \n",
       "310             M  Bronze  \n",
       "311             M    Gold  \n",
       "...           ...     ...  \n",
       "2306            M  Silver  \n",
       "2307            W    Gold  \n",
       "2308            W  Silver  \n",
       "2309            M    Gold  \n",
       "2310            W  Silver  \n",
       "\n",
       "[181 rows x 8 columns]"
      ]
     },
     "execution_count": 43,
     "metadata": {},
     "output_type": "execute_result"
    }
   ],
   "source": [
    "#Descargar los datos y obtener un sub dataset que contenga\n",
    "#a todas las medallas de oro (Gold) Estados Unidos (USA) a partir del año 1950.\n",
    "\n",
    "df_med_usa1950 = df_medallas[ (df_medallas['NOC']=='USA')  & (df_medallas['Year']>=1950)  ]\n",
    "df_med_usa1950\n"
   ]
  },
  {
   "cell_type": "code",
   "execution_count": 44,
   "id": "48773e7a",
   "metadata": {},
   "outputs": [
    {
     "data": {
      "text/plain": [
       "<sqlalchemy.engine.cursor.LegacyCursorResult at 0x7f23dd19c370>"
      ]
     },
     "execution_count": 44,
     "metadata": {},
     "output_type": "execute_result"
    }
   ],
   "source": [
    "# Creación del engine y de la base de datos de no existir \"olympics\"\n",
    "engine = db.create_engine('sqlite:///olympics.db')\n",
    "sqla_connection = engine.connect()\n",
    "\n",
    "# Creamos la tabla\n",
    "query = \"\"\"CREATE TABLE IF NOT EXISTS medals (\n",
    "            Year INTEGER,\n",
    "            City VARCHAR(40),\n",
    "            Sport VARCHAR(40),\n",
    "            Discipline VARCHAR(40),\n",
    "            NOC VARCHAR(3),\n",
    "            Event VARCHAR(40),\n",
    "            'Event gender' VARCHAR(1),\n",
    "            Medal VARCHAR(5)\n",
    "            );\"\"\"\n",
    "engine.execute(query, con=sqla_connection)\n"
   ]
  },
  {
   "cell_type": "code",
   "execution_count": 45,
   "id": "2b15850d",
   "metadata": {},
   "outputs": [
    {
     "data": {
      "text/plain": [
       "181"
      ]
     },
     "execution_count": 45,
     "metadata": {},
     "output_type": "execute_result"
    }
   ],
   "source": [
    "# Insertamos el dataframe a la base de dato\n",
    "df_med_usa1950.to_sql(name='medals', con=sqla_connection, if_exists='append', index = False)"
   ]
  },
  {
   "cell_type": "code",
   "execution_count": 46,
   "id": "35f7d343",
   "metadata": {},
   "outputs": [],
   "source": [
    "#Controlamos su inserción correcta\n",
    "check_registros = engine.execute('SELECT * FROM '\n",
    "                        '\"medals\" LIMIT 10')"
   ]
  },
  {
   "cell_type": "code",
   "execution_count": 47,
   "id": "13b2fefa",
   "metadata": {},
   "outputs": [
    {
     "name": "stdout",
     "output_type": "stream",
     "text": [
      "(1952, 'Oslo', 'Bobsleigh', 'Bobsleigh', 'USA', 'four-man', 'M', 'Silver')\n",
      "(1952, 'Oslo', 'Bobsleigh', 'Bobsleigh', 'USA', 'two-man', 'M', 'Silver')\n",
      "(1952, 'Oslo', 'Ice Hockey', 'Ice Hockey', 'USA', 'ice hockey', 'M', 'Silver')\n",
      "(1952, 'Oslo', 'Skating', 'Figure skating', 'USA', 'individual', 'M', 'Bronze')\n",
      "(1952, 'Oslo', 'Skating', 'Figure skating', 'USA', 'individual', 'M', 'Gold')\n",
      "(1952, 'Oslo', 'Skating', 'Figure skating', 'USA', 'individual', 'W', 'Silver')\n",
      "(1952, 'Oslo', 'Skating', 'Figure skating', 'USA', 'pairs', 'X', 'Silver')\n",
      "(1952, 'Oslo', 'Skating', 'Speed skating', 'USA', '500m', 'M', 'Gold')\n",
      "(1952, 'Oslo', 'Skating', 'Speed skating', 'USA', '500m', 'M', 'Silver')\n",
      "(1952, 'Oslo', 'Skiing', 'Alpine Skiing', 'USA', 'giant slalom', 'W', 'Gold')\n"
     ]
    }
   ],
   "source": [
    "for registro in check_registros:\n",
    "    print(registro)"
   ]
  },
  {
   "cell_type": "code",
   "execution_count": 48,
   "id": "2a1c1cd4",
   "metadata": {},
   "outputs": [],
   "source": [
    "#Controlamos que la información que habiamos insertado cumplia los requisitos\n",
    "control1 = engine.execute('SELECT MIN(Year) FROM '\n",
    "                        '\"medals\" ')\n",
    "control2 = engine.execute('SELECT DISTINCT(NOC) FROM '\n",
    "                        '\"medals\" ')\n",
    "fecha_minima= [x for x in control1]\n",
    "\n",
    "\n",
    "paises=[x for x in control2]\n",
    "\n",
    "try:\n",
    "    assert(fecha_minima[0][0]>=1952)\n",
    "except AssertionError:\n",
    "    print(\" ----- LA FECHA NO CUMPLE LOS REQUISITOS ----- \")\n",
    "    print(f\" ----- FECHA: {fecha_minima[0][0]} ----- \")\n",
    "try:\n",
    "    assert(paises[0][0]==\"USA\")\n",
    "except AssertionError:\n",
    "    print(\" ----- LOS PAISES NO CUMPLE LOS REQUISITOS ----- \")\n",
    "    print(f\" ----- PAISES: {paises[0][0]} ----- \")\n",
    "\n"
   ]
  },
  {
   "cell_type": "markdown",
   "id": "95918e15",
   "metadata": {},
   "source": [
    "Agregamos unas graficas sobre la información descargada de la tabla"
   ]
  },
  {
   "cell_type": "code",
   "execution_count": 51,
   "id": "26c30727",
   "metadata": {},
   "outputs": [
    {
     "data": {
      "text/plain": [
       "Text(0.5, 17.199999999999996, 'Sexo/Medalla')"
      ]
     },
     "execution_count": 51,
     "metadata": {},
     "output_type": "execute_result"
    },
    {
     "data": {
      "image/png": "[encoded data removed]",
      "text/plain": [
       "<Figure size 432x288 with 1 Axes>"
      ]
     },
     "metadata": {
      "needs_background": "light"
     },
     "output_type": "display_data"
    }
   ],
   "source": [
    "import matplotlib.pyplot as plt\n",
    "\n",
    "\n",
    "registros = engine.execute('SELECT * FROM '\n",
    "                        '\"medals\" ')\n",
    "df_med_graf = pd.DataFrame(registros.fetchall())\n",
    "plot_gender=df_med_graf.groupby(['Event gender','Medal'])['Medal'].count().plot.bar()\n",
    "plot_event=df_med_graf.groupby(['Medal'])['Event gender'].count().plot.bar()\n",
    "plot_testdf.set_ylabel(\"Cantidad de Medallas\")\n",
    "plot_testdf.set_xlabel(\"Sexo/Medalla\")\n",
    "\n"
   ]
  },
  {
   "cell_type": "code",
   "execution_count": 53,
   "id": "586ac0c6",
   "metadata": {},
   "outputs": [
    {
     "data": {
      "text/html": [
       "<div>\n",
       "<style scoped>\n",
       "    .dataframe tbody tr th:only-of-type {\n",
       "        vertical-align: middle;\n",
       "    }\n",
       "\n",
       "    .dataframe tbody tr th {\n",
       "        vertical-align: top;\n",
       "    }\n",
       "\n",
       "    .dataframe thead th {\n",
       "        text-align: right;\n",
       "    }\n",
       "</style>\n",
       "<table border=\"1\" class=\"dataframe\">\n",
       "  <thead>\n",
       "    <tr style=\"text-align: right;\">\n",
       "      <th></th>\n",
       "      <th>Year</th>\n",
       "      <th>City</th>\n",
       "      <th>Sport</th>\n",
       "      <th>Discipline</th>\n",
       "      <th>NOC</th>\n",
       "      <th>Event</th>\n",
       "      <th>Medal</th>\n",
       "    </tr>\n",
       "    <tr>\n",
       "      <th>Event gender</th>\n",
       "      <th></th>\n",
       "      <th></th>\n",
       "      <th></th>\n",
       "      <th></th>\n",
       "      <th></th>\n",
       "      <th></th>\n",
       "      <th></th>\n",
       "    </tr>\n",
       "  </thead>\n",
       "  <tbody>\n",
       "    <tr>\n",
       "      <th>M</th>\n",
       "      <td>425</td>\n",
       "      <td>425</td>\n",
       "      <td>425</td>\n",
       "      <td>425</td>\n",
       "      <td>425</td>\n",
       "      <td>425</td>\n",
       "      <td>425</td>\n",
       "    </tr>\n",
       "    <tr>\n",
       "      <th>W</th>\n",
       "      <td>430</td>\n",
       "      <td>430</td>\n",
       "      <td>430</td>\n",
       "      <td>430</td>\n",
       "      <td>430</td>\n",
       "      <td>430</td>\n",
       "      <td>430</td>\n",
       "    </tr>\n",
       "    <tr>\n",
       "      <th>X</th>\n",
       "      <td>50</td>\n",
       "      <td>50</td>\n",
       "      <td>50</td>\n",
       "      <td>50</td>\n",
       "      <td>50</td>\n",
       "      <td>50</td>\n",
       "      <td>50</td>\n",
       "    </tr>\n",
       "  </tbody>\n",
       "</table>\n",
       "</div>"
      ],
      "text/plain": [
       "              Year  City  Sport  Discipline  NOC  Event  Medal\n",
       "Event gender                                                  \n",
       "M              425   425    425         425  425    425    425\n",
       "W              430   430    430         430  430    430    430\n",
       "X               50    50     50          50   50     50     50"
      ]
     },
     "execution_count": 53,
     "metadata": {},
     "output_type": "execute_result"
    }
   ],
   "source": [
    "df_med_graf.groupby(['Event gender']).count()"
   ]
  },
  {
   "cell_type": "code",
   "execution_count": null,
   "id": "7473558a",
   "metadata": {},
   "outputs": [],
   "source": []
  }
 ],
 "metadata": {
  "kernelspec": {
   "display_name": "Python 3 (ipykernel)",
   "language": "python",
   "name": "python3"
  },
  "language_info": {
   "codemirror_mode": {
    "name": "ipython",
    "version": 3
   },
   "file_extension": ".py",
   "mimetype": "text/x-python",
   "name": "python",
   "nbconvert_exporter": "python",
   "pygments_lexer": "ipython3",
   "version": "3.9.12"
  }
 },
 "nbformat": 4,
 "nbformat_minor": 5
}
