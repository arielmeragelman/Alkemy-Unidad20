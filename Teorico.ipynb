{
 "cells": [
  {
   "cell_type": "markdown",
   "id": "9fd65261",
   "metadata": {},
   "source": [
    "Links de ejemplo:\n",
    "SQLITE\n",
    "https://colab.research.google.com/drive/1MtbX8kmRLaQtx4YNZyf9NpMGu_tLxem_#scrollTo=08687a91\n",
    "MYSQL\n",
    "https://colab.research.google.com/drive/1n330_zYLZ9oijeH9z9siavUt1awCADG5\n",
    "SQL SERVER\n",
    "https://colab.research.google.com/drive/1Z1PjfL_sYrdSOIfqfy5FcbBcC3JXRg8C#scrollTo=307da522\n",
    "POSTGRES\n",
    "colab.research.google.com/drive/1Y7wtCTW9n4fYCFEwLd193-hMuPB3s1hK\n",
    "\n",
    "Tratamiento con Pandas\n",
    "https://colab.research.google.com/drive/1KEmYVoVjMhuIsVsTzy9_RBItQhc6YmTE"
   ]
  },
  {
   "cell_type": "code",
   "execution_count": 1,
   "id": "33915106",
   "metadata": {},
   "outputs": [],
   "source": [
    "import sqlite3\n",
    "import pandas as pd\n",
    "import sqlalchemy as db"
   ]
  },
  {
   "cell_type": "code",
   "execution_count": 2,
   "id": "fdd6bda8",
   "metadata": {},
   "outputs": [],
   "source": [
    "conn = sqlite3.connect(\"basepractica.db\")\n",
    "cursor = conn.cursor()"
   ]
  },
  {
   "cell_type": "code",
   "execution_count": 3,
   "id": "6fbe6576",
   "metadata": {},
   "outputs": [
    {
     "name": "stdout",
     "output_type": "stream",
     "text": [
      "<sqlite3.Cursor object at 0x7f0120255180>\n"
     ]
    }
   ],
   "source": [
    "print(cursor)"
   ]
  },
  {
   "cell_type": "code",
   "execution_count": 4,
   "id": "45e9e1d0",
   "metadata": {},
   "outputs": [],
   "source": [
    "query = \"\"\"CREATE TABLE IF NOT EXISTS orders (\n",
    "            orderId INTEGER,\n",
    "            totalPrice REAL,\n",
    "            address TEXT\n",
    "            )\"\"\"\n",
    "\n",
    "cursor.execute(query)\n",
    "conn.commit()\n",
    "\n"
   ]
  },
  {
   "cell_type": "code",
   "execution_count": 9,
   "id": "621df39d",
   "metadata": {},
   "outputs": [],
   "source": [
    "# Insertar datos\n",
    "order_data = [\n",
    "    (546, 3489.98, 'Buenos Aires 989'),\n",
    "    (547, 6897, 'Espronceda 3218'),\n",
    "    (560, 7542.35, 'Pasteur 1788'),\n",
    "    (562, 11432, 'Galicia 1252')\n",
    "]\n",
    "\n",
    "cursor.executemany(\"INSERT INTO orders VALUES (?, ?, ?)\", order_data)\n",
    "conn.commit()\n"
   ]
  },
  {
   "cell_type": "code",
   "execution_count": 12,
   "id": "102c7188",
   "metadata": {},
   "outputs": [
    {
     "name": "stdout",
     "output_type": "stream",
     "text": [
      "(546, 3489.98, 'Buenos Aires 989')\n",
      "[(546, 3489.98, 'Buenos Aires 989'), (547, 6897.0, 'Espronceda 3218')]\n",
      "(546, 3489.98, 'Buenos Aires 989')\n",
      "(547, 6897.0, 'Espronceda 3218')\n",
      "(560, 7542.35, 'Pasteur 1788')\n",
      "(562, 11432.0, 'Galicia 1252')\n",
      "(546, 3489.98, 'Buenos Aires 989')\n",
      "(547, 6897.0, 'Espronceda 3218')\n",
      "(560, 7542.35, 'Pasteur 1788')\n",
      "(562, 11432.0, 'Galicia 1252')\n",
      "(546, 3489.98, 'Buenos Aires 989')\n",
      "(547, 6897.0, 'Espronceda 3218')\n",
      "(560, 7542.35, 'Pasteur 1788')\n",
      "(562, 11432.0, 'Galicia 1252')\n",
      "(546, 3489.98, 'Buenos Aires 989')\n",
      "(547, 6897.0, 'Espronceda 3218')\n",
      "(560, 7542.35, 'Pasteur 1788')\n",
      "(562, 11432.0, 'Galicia 1252')\n"
     ]
    }
   ],
   "source": [
    "# Seleccionar un dato utilizando fetchone\n",
    "query = \"SELECT * FROM orders\"\n",
    "cursor.execute(query)\n",
    "one_result = cursor.fetchone()\n",
    "print(one_result)\n",
    "\n",
    "# Seleccionar varios datos utilizando fetchmany\n",
    "query = \"SELECT * FROM orders\"\n",
    "cursor.execute(query)\n",
    "many_results = cursor.fetchmany(2)\n",
    "print(many_results)\n",
    "# Seleccionar todos los datos utilizando fetchall\n",
    "query = \"SELECT * FROM orders\"\n",
    "cursor.execute(query)\n",
    "results = cursor.fetchall()\n",
    "for r in results:\n",
    "    print(r)"
   ]
  },
  {
   "cell_type": "code",
   "execution_count": 13,
   "id": "ba7cdb1f",
   "metadata": {},
   "outputs": [
    {
     "name": "stdout",
     "output_type": "stream",
     "text": [
      "(546, 6150.8, 'Buenos Aires 989')\n",
      "(547, 6897.0, 'Espronceda 3218')\n",
      "(560, 7542.35, 'Pasteur 1788')\n",
      "(562, 11432.0, 'Galicia 1252')\n",
      "(546, 6150.8, 'Buenos Aires 989')\n",
      "(547, 6897.0, 'Espronceda 3218')\n",
      "(560, 7542.35, 'Pasteur 1788')\n",
      "(562, 11432.0, 'Galicia 1252')\n",
      "(546, 6150.8, 'Buenos Aires 989')\n",
      "(547, 6897.0, 'Espronceda 3218')\n",
      "(560, 7542.35, 'Pasteur 1788')\n",
      "(562, 11432.0, 'Galicia 1252')\n",
      "(546, 6150.8, 'Buenos Aires 989')\n",
      "(547, 6897.0, 'Espronceda 3218')\n",
      "(560, 7542.35, 'Pasteur 1788')\n",
      "(562, 11432.0, 'Galicia 1252')\n"
     ]
    }
   ],
   "source": [
    "# Update data\n",
    "query = \"\"\"UPDATE orders\n",
    "            SET totalPrice = 6150.80\n",
    "            WHERE address = 'Buenos Aires 989'\n",
    "            \n",
    "\"\"\"\n",
    "cursor.execute(query)\n",
    "conn.commit()\n",
    "\n",
    "# Seleccionar todos los datos utilizando fetchall\n",
    "query = \"SELECT * FROM orders\"\n",
    "cursor.execute(query)\n",
    "results = cursor.fetchall()\n",
    "for r in results:\n",
    "    print(r)"
   ]
  },
  {
   "cell_type": "code",
   "execution_count": 14,
   "id": "27ad57e0",
   "metadata": {},
   "outputs": [
    {
     "name": "stdout",
     "output_type": "stream",
     "text": [
      "(546, 6150.8, 'Buenos Aires 989')\n",
      "(547, 6897.0, 'Espronceda 3218')\n",
      "(562, 11432.0, 'Galicia 1252')\n",
      "(546, 6150.8, 'Buenos Aires 989')\n",
      "(547, 6897.0, 'Espronceda 3218')\n",
      "(562, 11432.0, 'Galicia 1252')\n",
      "(546, 6150.8, 'Buenos Aires 989')\n",
      "(547, 6897.0, 'Espronceda 3218')\n",
      "(562, 11432.0, 'Galicia 1252')\n",
      "(546, 6150.8, 'Buenos Aires 989')\n",
      "(547, 6897.0, 'Espronceda 3218')\n",
      "(562, 11432.0, 'Galicia 1252')\n"
     ]
    }
   ],
   "source": [
    "# Borrar datos\n",
    "query = \"DELETE FROM orders WHERE address = 'Pasteur 1788'\"\n",
    "cursor.execute(query)\n",
    "\n",
    "# Seleccionar todos los datos utilizando fetchall\n",
    "query = \"SELECT * FROM orders\"\n",
    "cursor.execute(query)\n",
    "results = cursor.fetchall()\n",
    "for r in results:\n",
    "    print(r)"
   ]
  },
  {
   "cell_type": "code",
   "execution_count": 15,
   "id": "8ef0d899",
   "metadata": {},
   "outputs": [
    {
     "data": {
      "text/html": [
       "<div>\n",
       "<style scoped>\n",
       "    .dataframe tbody tr th:only-of-type {\n",
       "        vertical-align: middle;\n",
       "    }\n",
       "\n",
       "    .dataframe tbody tr th {\n",
       "        vertical-align: top;\n",
       "    }\n",
       "\n",
       "    .dataframe thead th {\n",
       "        text-align: right;\n",
       "    }\n",
       "</style>\n",
       "<table border=\"1\" class=\"dataframe\">\n",
       "  <thead>\n",
       "    <tr style=\"text-align: right;\">\n",
       "      <th></th>\n",
       "      <th>orderId</th>\n",
       "      <th>totalPrice</th>\n",
       "      <th>address</th>\n",
       "    </tr>\n",
       "  </thead>\n",
       "  <tbody>\n",
       "    <tr>\n",
       "      <th>0</th>\n",
       "      <td>546</td>\n",
       "      <td>6150.8</td>\n",
       "      <td>Buenos Aires 989</td>\n",
       "    </tr>\n",
       "    <tr>\n",
       "      <th>1</th>\n",
       "      <td>547</td>\n",
       "      <td>6897.0</td>\n",
       "      <td>Espronceda 3218</td>\n",
       "    </tr>\n",
       "    <tr>\n",
       "      <th>2</th>\n",
       "      <td>562</td>\n",
       "      <td>11432.0</td>\n",
       "      <td>Galicia 1252</td>\n",
       "    </tr>\n",
       "    <tr>\n",
       "      <th>3</th>\n",
       "      <td>546</td>\n",
       "      <td>6150.8</td>\n",
       "      <td>Buenos Aires 989</td>\n",
       "    </tr>\n",
       "    <tr>\n",
       "      <th>4</th>\n",
       "      <td>547</td>\n",
       "      <td>6897.0</td>\n",
       "      <td>Espronceda 3218</td>\n",
       "    </tr>\n",
       "  </tbody>\n",
       "</table>\n",
       "</div>"
      ],
      "text/plain": [
       "   orderId  totalPrice           address\n",
       "0      546      6150.8  Buenos Aires 989\n",
       "1      547      6897.0   Espronceda 3218\n",
       "2      562     11432.0      Galicia 1252\n",
       "3      546      6150.8  Buenos Aires 989\n",
       "4      547      6897.0   Espronceda 3218"
      ]
     },
     "execution_count": 15,
     "metadata": {},
     "output_type": "execute_result"
    }
   ],
   "source": [
    "# Obtener un dataframe a partir de una consulta SQL\n",
    "query = \"SELECT * FROM orders\"\n",
    "data = pd.read_sql(query, con=conn)\n",
    "data.head()"
   ]
  },
  {
   "cell_type": "code",
   "execution_count": null,
   "id": "9b078201",
   "metadata": {},
   "outputs": [],
   "source": []
  }
 ],
 "metadata": {
  "kernelspec": {
   "display_name": "Python 3 (ipykernel)",
   "language": "python",
   "name": "python3"
  },
  "language_info": {
   "codemirror_mode": {
    "name": "ipython",
    "version": 3
   },
   "file_extension": ".py",
   "mimetype": "text/x-python",
   "name": "python",
   "nbconvert_exporter": "python",
   "pygments_lexer": "ipython3",
   "version": "3.9.12"
  }
 },
 "nbformat": 4,
 "nbformat_minor": 5
}
